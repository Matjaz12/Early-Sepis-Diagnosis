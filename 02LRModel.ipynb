{
 "cells": [
  {
   "cell_type": "markdown",
   "metadata": {},
   "source": [
    "02LRModel"
   ]
  },
  {
   "cell_type": "code",
   "execution_count": 1,
   "metadata": {},
   "outputs": [],
   "source": [
    "import pandas as pd\n",
    "import numpy as np\n",
    "import os\n",
    "import pickle \n",
    "\n",
    "import matplotlib.pyplot as plt\n",
    "import seaborn as sns\n",
    "\n",
    "from sklearn.model_selection import train_test_split \n",
    "from sklearn import linear_model, preprocessing\n",
    "from sklearn.model_selection import GridSearchCV, RandomizedSearchCV\n",
    "from helper_functions import *"
   ]
  },
  {
   "cell_type": "markdown",
   "metadata": {},
   "source": [
    "Import data and drop selected features"
   ]
  },
  {
   "cell_type": "code",
   "execution_count": 2,
   "metadata": {},
   "outputs": [],
   "source": [
    "with open('data/train_valid_test_data.pickle', 'rb') as f:\n",
    "    train_df, valid_df, test_df = pickle.load(f)\n",
    "\n",
    "''' \n",
    "Merge test and validation data.\n",
    "'''\n",
    "test_df = pd.concat([test_df,valid_df])"
   ]
  },
  {
   "cell_type": "code",
   "execution_count": 3,
   "metadata": {},
   "outputs": [],
   "source": [
    "''' \n",
    "Drop features that have high percantage of missing values and \n",
    "have no noticable distribution differences.\n",
    "'''\n",
    "\n",
    "drop_cols = [\"FiO2\", \"Bilirubin_direct\", \"SBP\", \"DBP\", \"Hct\", \"HospAdmTime\", \"ICULOS\"] \n",
    "\n",
    "train_df.drop(train_df.columns[train_df.columns.str.contains('unnamed',case = False)],axis = 1, inplace = True)\n",
    "test_df.drop(test_df.columns[test_df.columns.str.contains('unnamed',case = False)],axis = 1, inplace = True)\n",
    "train_df.drop(drop_cols, axis=1, inplace=True)\n",
    "test_df.drop(drop_cols, axis=1, inplace=True)"
   ]
  },
  {
   "cell_type": "code",
   "execution_count": 4,
   "metadata": {},
   "outputs": [
    {
     "name": "stdout",
     "output_type": "stream",
     "text": [
      "(552371, 31)\n",
      "(237844, 31)\n"
     ]
    }
   ],
   "source": [
    "print(train_df.shape)\n",
    "print(test_df.shape)"
   ]
  },
  {
   "cell_type": "code",
   "execution_count": 5,
   "metadata": {},
   "outputs": [],
   "source": [
    "def split_features_and_labels(df):\n",
    "    cols = df.columns\n",
    "    return np.array(df[cols[:-1]].values), df[cols[-1]].values\n",
    "\n",
    "X_train, y_train = split_features_and_labels(train_df)\n",
    "X_test, y_test   = split_features_and_labels(test_df)"
   ]
  },
  {
   "cell_type": "code",
   "execution_count": 6,
   "metadata": {},
   "outputs": [
    {
     "name": "stdout",
     "output_type": "stream",
     "text": [
      "Sepsis positive vs sepsis negative ratio\n",
      "0.0222656105415109\n",
      "0.021934441584779515\n"
     ]
    }
   ],
   "source": [
    "pos_neg_train = len([1 for i in y_train if i == 1]) / len([1 for i in y_train if i == 0])\n",
    "pos_neg_test  = len([1 for i in y_test if i == 1]) / len([1 for i in y_test if i == 0])\n",
    "\n",
    "print(\"Sepsis positive vs sepsis negative ratio\")\n",
    "print(pos_neg_train)\n",
    "print(pos_neg_test)"
   ]
  },
  {
   "cell_type": "markdown",
   "metadata": {},
   "source": [
    "Stand. and Normalize data."
   ]
  },
  {
   "cell_type": "code",
   "execution_count": 7,
   "metadata": {},
   "outputs": [],
   "source": [
    "scaler = preprocessing.StandardScaler()\n",
    "scaler.fit(X_train)\n",
    "X_train = scaler.transform(X_train)\n",
    "X_test  = scaler.transform(X_test)"
   ]
  },
  {
   "cell_type": "markdown",
   "metadata": {},
   "source": [
    "Oversample minortiy class"
   ]
  },
  {
   "cell_type": "code",
   "execution_count": 8,
   "metadata": {},
   "outputs": [],
   "source": [
    "# Split train dataset to sepsis positive and sepsis negative dataframe.\n",
    "train_df_0 = train_df[train_df[\"SepsisLabel\"] == 0]\n",
    "train_df_1 = train_df[train_df[\"SepsisLabel\"] == 1]\n",
    "\n",
    "train_df_1_oversampled = train_df_1.sample(train_df_0.shape[0], replace = True) # Oversample sepsis positive patient by duplicating instances\n",
    "train_df_oversampled = pd.concat([train_df_0, train_df_1_oversampled], axis = 0) # Create new training dataset, by concatinating trainf_df_0 and train_df_1_oversampled\n",
    "\n",
    "X_train_os, y_train_os = split_features_and_labels(train_df_oversampled)"
   ]
  },
  {
   "cell_type": "markdown",
   "metadata": {},
   "source": [
    "Fit logistic regression model on oversampled dataset"
   ]
  },
  {
   "cell_type": "code",
   "execution_count": 9,
   "metadata": {},
   "outputs": [
    {
     "data": {
      "text/plain": [
       "'\\nbest_logreg = clf.fit(X_train_os, y_train_os)\\n'"
      ]
     },
     "execution_count": 9,
     "metadata": {},
     "output_type": "execute_result"
    }
   ],
   "source": [
    "CROSS_VALID_FOLDS = 10\n",
    "\n",
    "logreg = linear_model.LogisticRegression(solver='saga', max_iter=1000, verbose = True, n_jobs = 4)\n",
    "\n",
    "hyper_parameter_options = dict(C=np.logspace(-1, 4, 10), penalty=['l1', 'l2'])\n",
    "clf = RandomizedSearchCV(\n",
    "                        logreg,\n",
    "                        hyper_parameter_options,\n",
    "                        cv = CROSS_VALID_FOLDS,\n",
    "                        verbose = True,\n",
    "                        n_jobs = 4\n",
    "                        )\n",
    "'''\n",
    "best_logreg = clf.fit(X_train_os, y_train_os)\n",
    "'''"
   ]
  },
  {
   "cell_type": "code",
   "execution_count": 10,
   "metadata": {},
   "outputs": [],
   "source": [
    "with open(\"models/log_reg_oversample.pkl\", \"rb\") as f:\n",
    "    logreg_os = pickle.load(f)\n",
    "\n",
    "#with open(\"models/log_reg_oversample.pkl\", \"wb\") as f:\n",
    "#    pickle.dump(best_logreg,f)"
   ]
  },
  {
   "cell_type": "code",
   "execution_count": 11,
   "metadata": {},
   "outputs": [
    {
     "name": "stdout",
     "output_type": "stream",
     "text": [
      "Selected Hyper parameters\n",
      "Parameters: {'penalty': 'l2', 'C': 774.2636826811278}\n",
      "Score: 0.6624070029981123\n"
     ]
    }
   ],
   "source": [
    "print(\"Selected Hyper parameters\")\n",
    "print(\"Parameters: \" + str(logreg_os.best_params_))\n",
    "print(\"Score: \"      + str(logreg_os.best_score_))"
   ]
  },
  {
   "cell_type": "markdown",
   "metadata": {},
   "source": [
    "Evaluate Model peformance"
   ]
  },
  {
   "cell_type": "code",
   "execution_count": 12,
   "metadata": {},
   "outputs": [
    {
     "name": "stdout",
     "output_type": "stream",
     "text": [
      "Accuarcy  = 0.5109063083365567\n",
      "Recall    = 0.7463271302644466\n",
      "Precision = 0.03205910318655705\n",
      "F1Score   = 0.06147739374576435\n",
      "F2Score   = 0.1367915383124017\n"
     ]
    }
   ],
   "source": [
    "display_performance(logreg_os, X_test,y_test)"
   ]
  },
  {
   "cell_type": "code",
   "execution_count": 13,
   "metadata": {},
   "outputs": [
    {
     "data": {
      "image/png": "[encoded data removed]",
      "text/plain": [
       "<Figure size 360x360 with 2 Axes>"
      ]
     },
     "metadata": {
      "needs_background": "light"
     },
     "output_type": "display_data"
    },
    {
     "name": "stdout",
     "output_type": "stream",
     "text": [
      "AUC: 0.6862581785326746\n"
     ]
    },
    {
     "data": {
      "image/png": "[encoded data removed]",
      "text/plain": [
       "<Figure size 504x504 with 1 Axes>"
      ]
     },
     "metadata": {
      "needs_background": "light"
     },
     "output_type": "display_data"
    },
    {
     "name": "stdout",
     "output_type": "stream",
     "text": [
      "AUC: 0.0465569983035745\n"
     ]
    },
    {
     "data": {
      "image/png": "[encoded data removed]",
      "text/plain": [
       "<Figure size 504x504 with 1 Axes>"
      ]
     },
     "metadata": {
      "needs_background": "light"
     },
     "output_type": "display_data"
    }
   ],
   "source": [
    "predictons_proba = logreg_os.predict_proba(X_test)[: , 1]\n",
    "predictions      = logreg_os.predict(X_test)\n",
    "plot_cm(y_test, predictions)\n",
    "plot_roc(\"Test Logistic Regression\", y_test, predictons_proba)\n",
    "plot_prc(\"Test Logistic Regression\", y_test, predictons_proba)"
   ]
  },
  {
   "cell_type": "markdown",
   "metadata": {},
   "source": [
    "Synthetic Minority Oversampling Technique (SMOTE)"
   ]
  },
  {
   "cell_type": "code",
   "execution_count": 14,
   "metadata": {},
   "outputs": [],
   "source": [
    "with open('data/train_valid_test_data.pickle', 'rb') as f:\n",
    "    train_df, valid_df, test_df = pickle.load(f)\n",
    "\n",
    "''' \n",
    "Merge test and validation data.\n",
    "'''\n",
    "test_df = pd.concat([test_df,valid_df])"
   ]
  },
  {
   "cell_type": "code",
   "execution_count": 15,
   "metadata": {},
   "outputs": [],
   "source": [
    "''' \n",
    "Drop features that have high percantage of missing values and \n",
    "have no noticable distribution differences.\n",
    "'''\n",
    "\n",
    "drop_cols = [\"FiO2\", \"Bilirubin_direct\", \"SBP\", \"DBP\", \"Hct\", \"HospAdmTime\", \"ICULOS\"] \n",
    "\n",
    "train_df.drop(train_df.columns[train_df.columns.str.contains('unnamed',case = False)],axis = 1, inplace = True)\n",
    "test_df.drop(test_df.columns[test_df.columns.str.contains('unnamed',case = False)],axis = 1, inplace = True)\n",
    "train_df.drop(drop_cols, axis=1, inplace=True)\n",
    "test_df.drop(drop_cols, axis=1, inplace=True)"
   ]
  },
  {
   "cell_type": "code",
   "execution_count": 16,
   "metadata": {},
   "outputs": [],
   "source": [
    "def split_features_and_labels(df):\n",
    "    cols = df.columns\n",
    "    return np.array(df[cols[:-1]].values), df[cols[-1]].values\n",
    "\n",
    "X_train, y_train = split_features_and_labels(train_df)\n",
    "X_test, y_test   = split_features_and_labels(test_df)"
   ]
  },
  {
   "cell_type": "code",
   "execution_count": 17,
   "metadata": {},
   "outputs": [
    {
     "name": "stdout",
     "output_type": "stream",
     "text": [
      "Sepsis positive vs sepsis negative ratio\n",
      "0.0222656105415109\n",
      "0.021934441584779515\n"
     ]
    }
   ],
   "source": [
    "pos_neg_train = len([1 for i in y_train if i == 1]) / len([1 for i in y_train if i == 0])\n",
    "pos_neg_test  = len([1 for i in y_test if i == 1]) / len([1 for i in y_test if i == 0])\n",
    "\n",
    "print(\"Sepsis positive vs sepsis negative ratio\")\n",
    "print(pos_neg_train)\n",
    "print(pos_neg_test)"
   ]
  },
  {
   "cell_type": "code",
   "execution_count": 18,
   "metadata": {},
   "outputs": [],
   "source": [
    "from imblearn.over_sampling import SMOTE\n",
    "\n",
    "smote = SMOTE(sampling_strategy = 'minority') \n",
    "\n",
    "X_train_smote, y_train_smote = smote.fit_resample(X_train, y_train)"
   ]
  },
  {
   "cell_type": "code",
   "execution_count": 19,
   "metadata": {},
   "outputs": [],
   "source": [
    "scaler = preprocessing.StandardScaler()\n",
    "scaler.fit(X_train)\n",
    "X_train = scaler.transform(X_train)\n",
    "X_test  = scaler.transform(X_test)"
   ]
  },
  {
   "cell_type": "code",
   "execution_count": 20,
   "metadata": {},
   "outputs": [
    {
     "name": "stdout",
     "output_type": "stream",
     "text": [
      "Sepsis positive vs sepsis negative ratio\n",
      "1.0\n",
      "(1080680, 30)\n"
     ]
    }
   ],
   "source": [
    "print(\"Sepsis positive vs sepsis negative ratio\")\n",
    "print(len([1 for i in y_train_smote if i == 1]) / len([1 for i in y_train_smote if i == 0]))\n",
    "print(X_train_smote.shape)"
   ]
  },
  {
   "cell_type": "markdown",
   "metadata": {},
   "source": [
    "Train logistic regression on SMOTE dataset"
   ]
  },
  {
   "cell_type": "code",
   "execution_count": 21,
   "metadata": {},
   "outputs": [
    {
     "data": {
      "text/plain": [
       "'\\nbest_logreg_smote = clf.fit(X_train_smote, y_train_smote)\\n'"
      ]
     },
     "execution_count": 21,
     "metadata": {},
     "output_type": "execute_result"
    }
   ],
   "source": [
    "'''\n",
    "Find best logistic regression model, using oversampled train data.\n",
    "'''\n",
    "CROSS_VALID_FOLDS = 10\n",
    "\n",
    "logreg = linear_model.LogisticRegression(solver='saga', max_iter=1000, verbose = 1, n_jobs = 4)\n",
    "\n",
    "hyper_par_options = dict(C = np.logspace(-1, 4, 10), penalty=['l1', 'l2'])\n",
    "clf = RandomizedSearchCV(logreg, \n",
    "                        hyper_par_options,\n",
    "                        cv = CROSS_VALID_FOLDS,\n",
    "                        verbose = 1,\n",
    "                        n_jobs = 4)\n",
    "'''\n",
    "best_logreg_smote = clf.fit(X_train_smote, y_train_smote)\n",
    "'''"
   ]
  },
  {
   "cell_type": "code",
   "execution_count": 22,
   "metadata": {},
   "outputs": [],
   "source": [
    "with open(\"models/log_reg_smote.pkl\", \"rb\") as f:\n",
    "    best_logreg_smote = pickle.load(f)\n",
    "\n",
    "#with open(\"models/log_reg_smote.pkl\", \"wb\") as f:\n",
    "#    pickle.dump(best_logreg_smote,f)"
   ]
  },
  {
   "cell_type": "code",
   "execution_count": 23,
   "metadata": {},
   "outputs": [
    {
     "name": "stdout",
     "output_type": "stream",
     "text": [
      "Selected Hyper parameters\n",
      "Parameters: {'penalty': 'l1', 'C': 0.1}\n",
      "Score: 0.6625957730317948\n"
     ]
    }
   ],
   "source": [
    "print(\"Selected Hyper parameters\")\n",
    "print(\"Parameters: \" + str(best_logreg_smote.best_params_))\n",
    "print(\"Score: \" + str(best_logreg_smote.best_score_))"
   ]
  },
  {
   "cell_type": "markdown",
   "metadata": {},
   "source": [
    "Evalute model performance"
   ]
  },
  {
   "cell_type": "code",
   "execution_count": 24,
   "metadata": {},
   "outputs": [
    {
     "name": "stdout",
     "output_type": "stream",
     "text": [
      "Accuarcy  = 0.6651670843073612\n",
      "Recall    = 0.6783545543584721\n",
      "Precision = 0.04251218404350655\n",
      "F1Score   = 0.08001016588882214\n",
      "F2Score   = 0.16995651704472953\n"
     ]
    }
   ],
   "source": [
    "display_performance(best_logreg_smote, X_test,y_test)"
   ]
  },
  {
   "cell_type": "code",
   "execution_count": 25,
   "metadata": {},
   "outputs": [
    {
     "data": {
      "image/png": "[encoded data removed]",
      "text/plain": [
       "<Figure size 360x360 with 2 Axes>"
      ]
     },
     "metadata": {
      "needs_background": "light"
     },
     "output_type": "display_data"
    },
    {
     "name": "stdout",
     "output_type": "stream",
     "text": [
      "AUC: 0.7292491327535712\n"
     ]
    },
    {
     "data": {
      "image/png": "[encoded data removed]",
      "text/plain": [
       "<Figure size 504x504 with 1 Axes>"
      ]
     },
     "metadata": {
      "needs_background": "light"
     },
     "output_type": "display_data"
    },
    {
     "name": "stdout",
     "output_type": "stream",
     "text": [
      "AUC: 0.05118878008363083\n"
     ]
    },
    {
     "data": {
      "image/png": "[encoded data removed]",
      "text/plain": [
       "<Figure size 504x504 with 1 Axes>"
      ]
     },
     "metadata": {
      "needs_background": "light"
     },
     "output_type": "display_data"
    }
   ],
   "source": [
    "predictons_proba = best_logreg_smote.predict_proba(X_test)[: , 1]\n",
    "predictions      = best_logreg_smote.predict(X_test)\n",
    "\n",
    "plot_cm(y_test, predictions)\n",
    "plot_roc(\"Test Logistic Regression\", y_test, predictons_proba)\n",
    "plot_prc(\"Test Logistic Regression\", y_test, predictons_proba)"
   ]
  }
 ],
 "metadata": {
  "interpreter": {
   "hash": "ae90dfe03a2ff2a8ba59a379b95d74bdb27cf9a7ce93f86ebd19f2fc7c49c750"
  },
  "kernelspec": {
   "display_name": "Python 3.9.2 64-bit",
   "language": "python",
   "name": "python3"
  },
  "language_info": {
   "codemirror_mode": {
    "name": "ipython",
    "version": 3
   },
   "file_extension": ".py",
   "mimetype": "text/x-python",
   "name": "python",
   "nbconvert_exporter": "python",
   "pygments_lexer": "ipython3",
   "version": "3.8.0"
  },
  "orig_nbformat": 4
 },
 "nbformat": 4,
 "nbformat_minor": 2
}
