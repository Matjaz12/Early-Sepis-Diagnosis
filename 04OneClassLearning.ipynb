{
 "cells": [
  {
   "cell_type": "code",
   "execution_count": 11,
   "metadata": {},
   "outputs": [],
   "source": [
    "import pandas as pd\n",
    "import numpy as np\n",
    "import random\n",
    "import pickle\n",
    "import os\n",
    "\n",
    "from sklearn.model_selection import GridSearchCV\n",
    "from sklearn.ensemble import IsolationForest\n",
    "from helper_functions import *"
   ]
  },
  {
   "cell_type": "markdown",
   "metadata": {},
   "source": [
    "Import data and drop selected features"
   ]
  },
  {
   "cell_type": "code",
   "execution_count": 3,
   "metadata": {},
   "outputs": [],
   "source": [
    "with open('data/train_valid_test_data.pickle', 'rb') as f:\n",
    "    train_df, valid_df, test_df = pickle.load(f)\n",
    "\n",
    "''' \n",
    "Merge test and validation data.\n",
    "'''\n",
    "test_df = pd.concat([test_df,valid_df])"
   ]
  },
  {
   "cell_type": "code",
   "execution_count": 4,
   "metadata": {},
   "outputs": [],
   "source": [
    "''' \n",
    "Drop features that have high percantage of missing values and \n",
    "have no noticable distribution differences.\n",
    "'''\n",
    "\n",
    "drop_cols = [\"FiO2\", \"Bilirubin_direct\", \"SBP\", \"DBP\", \"Hct\", \"HospAdmTime\", \"ICULOS\"] \n",
    "\n",
    "train_df.drop(train_df.columns[train_df.columns.str.contains('unnamed',case = False)],axis = 1, inplace = True)\n",
    "test_df.drop(test_df.columns[test_df.columns.str.contains('unnamed',case = False)],   axis = 1, inplace = True)\n",
    "train_df.drop(drop_cols, axis=1, inplace=True)\n",
    "test_df.drop(drop_cols, axis=1, inplace=True)"
   ]
  },
  {
   "cell_type": "code",
   "execution_count": 6,
   "metadata": {},
   "outputs": [
    {
     "name": "stdout",
     "output_type": "stream",
     "text": [
      "(552371, 31)\n",
      "(237844, 31)\n"
     ]
    }
   ],
   "source": [
    "print(train_df.shape)\n",
    "print(test_df.shape)"
   ]
  },
  {
   "cell_type": "code",
   "execution_count": 7,
   "metadata": {},
   "outputs": [],
   "source": [
    "def split_features_and_labels(df):\n",
    "    cols = df.columns\n",
    "    return np.array(df[cols[:-1]].values), df[cols[-1]].values\n",
    "\n",
    "X_train, y_train = split_features_and_labels(train_df)\n",
    "X_test, y_test   = split_features_and_labels(test_df)"
   ]
  },
  {
   "cell_type": "markdown",
   "metadata": {},
   "source": [
    "Train Isolation Forest Model"
   ]
  },
  {
   "cell_type": "code",
   "execution_count": 8,
   "metadata": {},
   "outputs": [
    {
     "name": "stderr",
     "output_type": "stream",
     "text": [
      "[Parallel(n_jobs=4)]: Using backend ThreadingBackend with 4 concurrent workers.\n",
      "[Parallel(n_jobs=4)]: Done   2 out of   4 | elapsed:   10.7s remaining:   10.7s\n",
      "[Parallel(n_jobs=4)]: Done   4 out of   4 | elapsed:   10.9s finished\n"
     ]
    },
    {
     "data": {
      "text/plain": [
       "IsolationForest(contamination=0.2, n_jobs=4, random_state=2141, verbose=True)"
      ]
     },
     "execution_count": 8,
     "metadata": {},
     "output_type": "execute_result"
    }
   ],
   "source": [
    "# define outlier detection model\n",
    "CONTAMINATION = 0.2\n",
    "isolation_forest = IsolationForest(contamination = CONTAMINATION, verbose = True, n_jobs = 4, random_state = 2141)\n",
    " \n",
    "\n",
    "X_train = X_train[y_train == 0]\n",
    "isolation_forest.fit(X_train)"
   ]
  },
  {
   "cell_type": "markdown",
   "metadata": {},
   "source": [
    "Evalute Model Performance"
   ]
  },
  {
   "cell_type": "code",
   "execution_count": null,
   "metadata": {},
   "outputs": [],
   "source": [
    "''' \n",
    "Once fit, the model can be used to find outliers in data.\n",
    "\n",
    "Model returns +1 ... inlier(Non Sepsis)\n",
    "Model returns -1 ... outlier(Sepsis)\n",
    "'''\n",
    "\n",
    "X_test = test_df.loc[:, test_df.columns != \"SepsisLabel\"]\n",
    "y_test = test_df[\"SepsisLabel\"]\n",
    "y_test[y_test == 1] = -1\n",
    "y_test[y_test == 0] = +1"
   ]
  },
  {
   "cell_type": "code",
   "execution_count": 10,
   "metadata": {},
   "outputs": [
    {
     "name": "stderr",
     "output_type": "stream",
     "text": [
      "C:\\Users\\matja\\AppData\\Local\\Programs\\Python\\Python38\\lib\\site-packages\\sklearn\\base.py:438: UserWarning: X has feature names, but IsolationForest was fitted without feature names\n",
      "  warnings.warn(\n"
     ]
    },
    {
     "name": "stdout",
     "output_type": "stream",
     "text": [
      "Accuarcy  = 0.792094818452431\n",
      "Recall    = 0.8016748374788927\n",
      "Precision = 0.982667270582287\n",
      "F1Score   = 0.8829916873910049\n",
      "F2Score   = 0.8323355590688312\n"
     ]
    }
   ],
   "source": [
    "display_performance(isolation_forest, X_test, y_test)"
   ]
  },
  {
   "cell_type": "code",
   "execution_count": 13,
   "metadata": {},
   "outputs": [
    {
     "name": "stderr",
     "output_type": "stream",
     "text": [
      "C:\\Users\\matja\\AppData\\Local\\Programs\\Python\\Python38\\lib\\site-packages\\sklearn\\base.py:438: UserWarning: X has feature names, but IsolationForest was fitted without feature names\n",
      "  warnings.warn(\n"
     ]
    },
    {
     "name": "stdout",
     "output_type": "stream",
     "text": [
      "F1 Score: 0.068\n"
     ]
    }
   ],
   "source": [
    "'''\n",
    "f1 score on sepsis positive patients\n",
    "'''\n",
    "\n",
    "score = f1_score(y_test, isolation_forest.predict(X_test), pos_label=-1)\n",
    "print('F1 Score: %.3f' % score)"
   ]
  },
  {
   "cell_type": "code",
   "execution_count": 14,
   "metadata": {},
   "outputs": [
    {
     "name": "stderr",
     "output_type": "stream",
     "text": [
      "C:\\Users\\matja\\AppData\\Local\\Programs\\Python\\Python38\\lib\\site-packages\\sklearn\\base.py:438: UserWarning: X has feature names, but IsolationForest was fitted without feature names\n",
      "  warnings.warn(\n"
     ]
    },
    {
     "data": {
      "image/png": "[encoded data removed]",
      "text/plain": [
       "<Figure size 360x360 with 2 Axes>"
      ]
     },
     "metadata": {
      "needs_background": "light"
     },
     "output_type": "display_data"
    }
   ],
   "source": [
    "predictions  = isolation_forest.predict(X_test)\n",
    "plot_cm(y_test, predictions)"
   ]
  },
  {
   "cell_type": "markdown",
   "metadata": {},
   "source": [
    "Hyper-parameter Search"
   ]
  },
  {
   "cell_type": "code",
   "execution_count": 16,
   "metadata": {},
   "outputs": [],
   "source": [
    "clf = IsolationForest(random_state = 47)\n",
    "\n",
    "param_grid = {\n",
    "              'n_estimators': list(range(100, 800, 100)), \n",
    "              'max_samples': list(range(100, 500, 100)), \n",
    "              'contamination': [0.1, 0.2, 0.3, 0.4, 0.5], \n",
    "              'max_features': [5,10,15], \n",
    "              'bootstrap': [True, False]\n",
    "              }\n",
    "\n",
    "selector = GridSearchCV(clf, \n",
    "                        param_grid,\n",
    "                        scoring = \"f1_micro\", \n",
    "                        refit = True,\n",
    "                        cv = 10, \n",
    "                        return_train_score=True,\n",
    "                        n_jobs = 4,\n",
    "                        verbose = True\n",
    "                        ) \n",
    "\n",
    "best_isolation_forest = selector.fit(X_train, y_train)"
   ]
  },
  {
   "cell_type": "code",
   "execution_count": 17,
   "metadata": {},
   "outputs": [],
   "source": [
    "with open(\"models/best_isolation_forest.pkl\", \"rb\") as f:\n",
    "    best_isolation_forest = pickle.load(f)\n",
    "\n",
    "#with open(\"models/best_isolation_forest.pkl\", \"wb\") as f:\n",
    "#    pickle.dump(best_logreg,f)"
   ]
  },
  {
   "cell_type": "code",
   "execution_count": 18,
   "metadata": {},
   "outputs": [
    {
     "name": "stdout",
     "output_type": "stream",
     "text": [
      "Selected Hyper parameters\n",
      "Parameters: {'n_estimators': 100, 'max_samples': 300, 'max_features': 5, 'contamination': 0.1, 'bootstrap': True}\n",
      "F1 Score: 0.016664523354793938\n"
     ]
    }
   ],
   "source": [
    "print(\"Selected Hyper parameters\")\n",
    "print(\"Parameters: \" + str(best_isolation_forest.best_params_))\n",
    "print(\"F1 Score: \" + str(best_isolation_forest.best_score_))"
   ]
  },
  {
   "cell_type": "markdown",
   "metadata": {},
   "source": [
    "Evaluate Best Model"
   ]
  },
  {
   "cell_type": "code",
   "execution_count": 19,
   "metadata": {},
   "outputs": [
    {
     "name": "stdout",
     "output_type": "stream",
     "text": [
      "Accuarcy  = 0.8870562217251644\n",
      "Recall    = 0.9016580805107868\n",
      "Precision = 0.9814101185075715\n",
      "F1Score   = 0.9398452632875393\n",
      "F2Score   = 0.9165544182211111\n"
     ]
    }
   ],
   "source": [
    "display_performance(best_isolation_forest, X_test, y_test)"
   ]
  },
  {
   "cell_type": "code",
   "execution_count": 20,
   "metadata": {},
   "outputs": [
    {
     "name": "stdout",
     "output_type": "stream",
     "text": [
      "F1 Score: 0.078\n"
     ]
    }
   ],
   "source": [
    "score = f1_score(y_test, best_isolation_forest.predict(X_test), pos_label=-1)\n",
    "print('F1 Score: %.3f' % score)"
   ]
  },
  {
   "cell_type": "code",
   "execution_count": 21,
   "metadata": {},
   "outputs": [
    {
     "data": {
      "image/png": "[encoded data removed]",
      "text/plain": [
       "<Figure size 360x360 with 2 Axes>"
      ]
     },
     "metadata": {
      "needs_background": "light"
     },
     "output_type": "display_data"
    }
   ],
   "source": [
    "predictions  = best_isolation_forest.predict(X_test)\n",
    "plot_cm(y_test, predictions)"
   ]
  }
 ],
 "metadata": {
  "interpreter": {
   "hash": "035f429469bb7a594d5e81a211c829d8e1847a22bcb63f00321f6d0059f3bfdb"
  },
  "kernelspec": {
   "display_name": "Python 3.10.1 64-bit",
   "language": "python",
   "name": "python3"
  },
  "language_info": {
   "codemirror_mode": {
    "name": "ipython",
    "version": 3
   },
   "file_extension": ".py",
   "mimetype": "text/x-python",
   "name": "python",
   "nbconvert_exporter": "python",
   "pygments_lexer": "ipython3",
   "version": "3.8.0"
  },
  "orig_nbformat": 4
 },
 "nbformat": 4,
 "nbformat_minor": 2
}
