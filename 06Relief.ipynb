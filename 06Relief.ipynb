{
 "cells": [
  {
   "cell_type": "code",
   "execution_count": 51,
   "metadata": {},
   "outputs": [],
   "source": [
    "import os\n",
    "import tempfile\n",
    "import pickle\n",
    "import numpy as np\n",
    "import pandas as pd\n",
    "from sklearn.preprocessing import StandardScaler\n",
    "\n",
    "import sklearn_relief as relief"
   ]
  },
  {
   "cell_type": "markdown",
   "metadata": {},
   "source": [
    "Load Data"
   ]
  },
  {
   "cell_type": "code",
   "execution_count": 52,
   "metadata": {},
   "outputs": [],
   "source": [
    "with open('data/train_valid_test_data.pickle', 'rb') as f:\n",
    "    train_df, valid_df, test_df = pickle.load(f)\n",
    "\n",
    "''' \n",
    "Drop features that have high percantage of missing values and \n",
    "have no noticable distribution differences.\n",
    "'''\n",
    "\n",
    "train_df.drop(train_df.columns[train_df.columns.str.contains('unnamed',case = False)],axis = 1, inplace = True)\n",
    "valid_df.drop(valid_df.columns[valid_df.columns.str.contains('unnamed',case = False)],axis = 1, inplace = True)\n",
    "test_df.drop(test_df.columns[test_df.columns.str.contains('unnamed',case = False)],   axis = 1, inplace = True)\n",
    "\n",
    "drop_cols = [\"FiO2\", \"Bilirubin_direct\", \"SBP\", \"DBP\", \"Hct\", \"HospAdmTime\", \"ICULOS\"] \n",
    "train_df.drop(drop_cols, axis=1, inplace=True)\n",
    "valid_df.drop(drop_cols, axis=1, inplace=True)\n",
    "test_df.drop(drop_cols, axis=1, inplace=True)"
   ]
  },
  {
   "cell_type": "markdown",
   "metadata": {},
   "source": [
    "Split Data"
   ]
  },
  {
   "cell_type": "code",
   "execution_count": 53,
   "metadata": {},
   "outputs": [],
   "source": [
    "def split_features_and_labels(df):\n",
    "    cols = df.columns\n",
    "    return np.array(df[cols[:-1]].values), df[cols[-1]].values"
   ]
  },
  {
   "cell_type": "code",
   "execution_count": 54,
   "metadata": {},
   "outputs": [],
   "source": [
    "X_train, y_train = split_features_and_labels(train_df)\n",
    "X_valid, y_valid = split_features_and_labels(valid_df)\n",
    "X_test, y_test   = split_features_and_labels(test_df)"
   ]
  },
  {
   "cell_type": "markdown",
   "metadata": {},
   "source": [
    "Scale data"
   ]
  },
  {
   "cell_type": "code",
   "execution_count": 55,
   "metadata": {},
   "outputs": [],
   "source": [
    "scaler = StandardScaler()\n",
    "scaler.fit(X_train)\n",
    "X_train = scaler.transform(X_train)\n",
    "X_valid = scaler.transform(X_valid)\n",
    "X_test  = scaler.transform(X_test)\n",
    "\n",
    "X_train = np.clip(X_train, -5, 5)\n",
    "X_valid = np.clip(X_valid, -5, 5)\n",
    "X_test  = np.clip(X_test, -5, 5)"
   ]
  },
  {
   "cell_type": "markdown",
   "metadata": {},
   "source": [
    "Perform Relief feature selection"
   ]
  },
  {
   "cell_type": "code",
   "execution_count": 56,
   "metadata": {},
   "outputs": [],
   "source": [
    "r = relief.Relief( n_features = 15) \n",
    "X_train_relief = r.fit_transform(X_train, y_train)"
   ]
  },
  {
   "cell_type": "code",
   "execution_count": 57,
   "metadata": {},
   "outputs": [
    {
     "name": "stdout",
     "output_type": "stream",
     "text": [
      "Feature weights\n",
      "[('HR', '0.618823691869244'), ('O2Sat', '0.34247804020675554'), ('Temp', '0.20328382554129562'), ('MAP', '0.4974743001602473'), ('Resp', '0.5096737690542261'), ('BaseExcess', '0.37214005904284553'), ('HCO3', '0.546790981076548'), ('pH', '0.03171453972884198'), ('PaCO2', '0.19217735742662018'), ('SaO2', '0.11231232313758487'), ('AST', '0.08766250567498025'), ('BUN', '0.4713366953716567'), ('Alkalinephos', '0.26603499617196874'), ('Calcium', '0.21674258891738896'), ('Chloride', '0.34138575520552805'), ('Creatinine', '0.2697789459547937'), ('Glucose', '0.5673901203032414'), ('Lactate', '0.36436933782277026'), ('Magnesium', '0.4341617166529501'), ('Phosphate', '0.3884699622663345'), ('Potassium', '0.5065779543958009'), ('Bilirubin_total', '0.12293902115160801'), ('TroponinI', '0.0239126886965358'), ('Hgb', '0.5391547673585205'), ('PTT', '0.5710638227489825'), ('WBC', '0.5446897769016461'), ('Fibrinogen', '0.1768557560986996'), ('Platelets', '0.6084466747542652'), ('Age', '0.5262768211538635'), ('Gender', '0.12143231719111473')]\n"
     ]
    }
   ],
   "source": [
    "feature_weights = []\n",
    "\n",
    "print(\"Feature weights\")\n",
    "for i in range(0, len(r.w_)):\n",
    "    #print(train_df.columns[i] + \" = \" + str(feature_weights[i]))\n",
    "    feature_weights.append((train_df.columns[i], str(r.w_[i])))\n",
    "\n",
    "print(feature_weights)"
   ]
  },
  {
   "cell_type": "code",
   "execution_count": 65,
   "metadata": {},
   "outputs": [
    {
     "name": "stdout",
     "output_type": "stream",
     "text": [
      "Selected Features\n",
      "[('HR', '0.618823691869244'), ('Platelets', '0.6084466747542652'), ('PTT', '0.5710638227489825'), ('Glucose', '0.5673901203032414'), ('HCO3', '0.546790981076548'), ('WBC', '0.5446897769016461'), ('Hgb', '0.5391547673585205'), ('Age', '0.5262768211538635'), ('Resp', '0.5096737690542261'), ('Potassium', '0.5065779543958009'), ('MAP', '0.4974743001602473'), ('BUN', '0.4713366953716567'), ('Magnesium', '0.4341617166529501'), ('Phosphate', '0.3884699622663345'), ('BaseExcess', '0.37214005904284553')]\n"
     ]
    }
   ],
   "source": [
    "FEATURE_NUMBER = 15\n",
    "feature_weights.sort(key = lambda x: x[1] ,reverse = True)\n",
    "print(\"Selected Features\")\n",
    "print(feature_weights[0 : FEATURE_NUMBER] )"
   ]
  },
  {
   "cell_type": "code",
   "execution_count": 64,
   "metadata": {},
   "outputs": [
    {
     "name": "stdout",
     "output_type": "stream",
     "text": [
      "Selected Features\n",
      "['HR', 'Platelets', 'PTT', 'Glucose', 'HCO3', 'WBC', 'Hgb', 'Age', 'Resp', 'Potassium', 'MAP', 'BUN', 'Magnesium', 'Phosphate', 'BaseExcess', 'SepsisLabel']\n"
     ]
    }
   ],
   "source": [
    "selected_features = [ feature for feature, _ in feature_weights[0 : FEATURE_NUMBER]]\n",
    "selected_features.append(\"SepsisLabel\")\n",
    "print(\"Selected Features\")\n",
    "print(selected_features)"
   ]
  }
 ],
 "metadata": {
  "interpreter": {
   "hash": "fd2aafac9e7d67ca0c5ff010252fa578be2e33d9baf25702f055f00766836ce0"
  },
  "kernelspec": {
   "display_name": "Python 3.8.0 64-bit",
   "language": "python",
   "name": "python3"
  },
  "language_info": {
   "codemirror_mode": {
    "name": "ipython",
    "version": 3
   },
   "file_extension": ".py",
   "mimetype": "text/x-python",
   "name": "python",
   "nbconvert_exporter": "python",
   "pygments_lexer": "ipython3",
   "version": "3.8.0"
  },
  "orig_nbformat": 4
 },
 "nbformat": 4,
 "nbformat_minor": 2
}
